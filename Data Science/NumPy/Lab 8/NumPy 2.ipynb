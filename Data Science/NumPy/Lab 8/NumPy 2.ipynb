{
 "cells": [
  {
   "cell_type": "markdown",
   "id": "6f1af124-c8a7-4e4b-ad04-4b80811a58f9",
   "metadata": {},
   "source": [
    "# Experiment 5    | NumPy"
   ]
  },
  {
   "cell_type": "code",
   "execution_count": 2,
   "id": "b27ed619-3824-44e9-b000-a0999b94c220",
   "metadata": {},
   "outputs": [],
   "source": [
    "import numpy as np"
   ]
  },
  {
   "cell_type": "code",
   "execution_count": 3,
   "id": "4587b141-c84d-495f-8b2a-618cd96a85cd",
   "metadata": {},
   "outputs": [
    {
     "name": "stdout",
     "output_type": "stream",
     "text": [
      "[[1 2 3]\n",
      " [4 5 6]\n",
      " [7 8 9]]\n"
     ]
    }
   ],
   "source": [
    "arr = np.arange(1,10).reshape(3,3)\n",
    "print(arr)"
   ]
  },
  {
   "cell_type": "markdown",
   "id": "c63dfa3d-9ce7-4639-9640-14573706472f",
   "metadata": {},
   "source": [
    "## Maximum and Minimum"
   ]
  },
  {
   "cell_type": "code",
   "execution_count": 5,
   "id": "d7189a3b-f75d-4a1d-ba2e-22b30b437121",
   "metadata": {},
   "outputs": [
    {
     "data": {
      "text/plain": [
       "9"
      ]
     },
     "execution_count": 5,
     "metadata": {},
     "output_type": "execute_result"
    }
   ],
   "source": [
    "arr.max()"
   ]
  },
  {
   "cell_type": "code",
   "execution_count": 6,
   "id": "fea7f7c0-c9f7-4c5b-ae40-e8d269dd1506",
   "metadata": {},
   "outputs": [
    {
     "data": {
      "text/plain": [
       "8"
      ]
     },
     "execution_count": 6,
     "metadata": {},
     "output_type": "execute_result"
    }
   ],
   "source": [
    "arr.argmax()"
   ]
  },
  {
   "cell_type": "code",
   "execution_count": 7,
   "id": "b5000ff6-be9d-4d4b-adf9-99e50f97ec25",
   "metadata": {},
   "outputs": [
    {
     "data": {
      "text/plain": [
       "array([7, 8, 9])"
      ]
     },
     "execution_count": 7,
     "metadata": {},
     "output_type": "execute_result"
    }
   ],
   "source": [
    "arr.max(axis=0)"
   ]
  },
  {
   "cell_type": "code",
   "execution_count": 8,
   "id": "ecda7273-2e95-47e4-9279-3cbcce77ea44",
   "metadata": {},
   "outputs": [
    {
     "data": {
      "text/plain": [
       "array([3, 6, 9])"
      ]
     },
     "execution_count": 8,
     "metadata": {},
     "output_type": "execute_result"
    }
   ],
   "source": [
    "arr.max(axis=1)"
   ]
  },
  {
   "cell_type": "markdown",
   "id": "c84e83dc-2d76-4f91-af53-3f43fad875df",
   "metadata": {},
   "source": [
    "## Sum of Matrix"
   ]
  },
  {
   "cell_type": "code",
   "execution_count": 10,
   "id": "1f47e1b3-b7a3-4c9e-bb27-7c2cbe161fd2",
   "metadata": {},
   "outputs": [
    {
     "data": {
      "text/plain": [
       "45"
      ]
     },
     "execution_count": 10,
     "metadata": {},
     "output_type": "execute_result"
    }
   ],
   "source": [
    "np.sum(arr)"
   ]
  },
  {
   "cell_type": "code",
   "execution_count": 11,
   "id": "89ffc3e1-3079-4908-834e-e9f7f47f944a",
   "metadata": {},
   "outputs": [
    {
     "data": {
      "text/plain": [
       "array([12, 15, 18])"
      ]
     },
     "execution_count": 11,
     "metadata": {},
     "output_type": "execute_result"
    }
   ],
   "source": [
    "np.sum(arr, axis=0)"
   ]
  },
  {
   "cell_type": "code",
   "execution_count": 12,
   "id": "fc0ff082-1a7e-4909-8e82-847110b986fd",
   "metadata": {},
   "outputs": [
    {
     "data": {
      "text/plain": [
       "array([ 6, 15, 24])"
      ]
     },
     "execution_count": 12,
     "metadata": {},
     "output_type": "execute_result"
    }
   ],
   "source": [
    "np.sum(arr, axis=1)"
   ]
  },
  {
   "cell_type": "markdown",
   "id": "e20a542a-b8af-4156-98a8-524637bc494b",
   "metadata": {},
   "source": [
    "## Mean, Median, & Standard Deviation"
   ]
  },
  {
   "cell_type": "code",
   "execution_count": 14,
   "id": "59a4a4fd-cad2-43e9-90bd-3e6af1b1453b",
   "metadata": {},
   "outputs": [
    {
     "data": {
      "text/plain": [
       "5.0"
      ]
     },
     "execution_count": 14,
     "metadata": {},
     "output_type": "execute_result"
    }
   ],
   "source": [
    "np.mean(arr)"
   ]
  },
  {
   "cell_type": "code",
   "execution_count": 15,
   "id": "6a689c93-24b2-4f35-af00-d890c4ff3a11",
   "metadata": {},
   "outputs": [
    {
     "data": {
      "text/plain": [
       "5.0"
      ]
     },
     "execution_count": 15,
     "metadata": {},
     "output_type": "execute_result"
    }
   ],
   "source": [
    "np.median(arr)"
   ]
  },
  {
   "cell_type": "code",
   "execution_count": 16,
   "id": "60d66d0c-b4ce-4d66-9529-6e8318a7e471",
   "metadata": {},
   "outputs": [
    {
     "data": {
      "text/plain": [
       "2.581988897471611"
      ]
     },
     "execution_count": 16,
     "metadata": {},
     "output_type": "execute_result"
    }
   ],
   "source": [
    "np.std(arr)"
   ]
  },
  {
   "cell_type": "code",
   "execution_count": 17,
   "id": "4e943485-0ae2-4337-bd7c-a9befefcaa88",
   "metadata": {},
   "outputs": [
    {
     "data": {
      "text/plain": [
       "array([[0.        , 0.69314718, 1.09861229],\n",
       "       [1.38629436, 1.60943791, 1.79175947],\n",
       "       [1.94591015, 2.07944154, 2.19722458]])"
      ]
     },
     "execution_count": 17,
     "metadata": {},
     "output_type": "execute_result"
    }
   ],
   "source": [
    "np.log(arr)"
   ]
  },
  {
   "cell_type": "code",
   "execution_count": 18,
   "id": "5ae5e9d4-112c-4245-a4a3-7a7399cf2537",
   "metadata": {},
   "outputs": [
    {
     "data": {
      "text/plain": [
       "array([[0.        , 0.30103   , 0.47712125],\n",
       "       [0.60205999, 0.69897   , 0.77815125],\n",
       "       [0.84509804, 0.90308999, 0.95424251]])"
      ]
     },
     "execution_count": 18,
     "metadata": {},
     "output_type": "execute_result"
    }
   ],
   "source": [
    "np.log10(arr)"
   ]
  },
  {
   "cell_type": "code",
   "execution_count": 19,
   "id": "870b3495-f133-4f8f-9631-e98696c0e4c2",
   "metadata": {},
   "outputs": [
    {
     "data": {
      "text/plain": [
       "array([[2.71828183e+00, 7.38905610e+00, 2.00855369e+01],\n",
       "       [5.45981500e+01, 1.48413159e+02, 4.03428793e+02],\n",
       "       [1.09663316e+03, 2.98095799e+03, 8.10308393e+03]])"
      ]
     },
     "execution_count": 19,
     "metadata": {},
     "output_type": "execute_result"
    }
   ],
   "source": [
    "np.exp(arr)"
   ]
  },
  {
   "cell_type": "markdown",
   "id": "1074b8c2-2104-4faa-8335-bc11f6aa90c4",
   "metadata": {},
   "source": [
    "## Slicing a numpy array"
   ]
  },
  {
   "cell_type": "code",
   "execution_count": 21,
   "id": "42e460f1-c641-4edb-8eba-9b423db622bc",
   "metadata": {},
   "outputs": [
    {
     "data": {
      "text/plain": [
       "array([[  1,   2,   3,   4,   5,   6,   7,   8,   9,  10],\n",
       "       [ 11,  12,  13,  14,  15,  16,  17,  18,  19,  20],\n",
       "       [ 21,  22,  23,  24,  25,  26,  27,  28,  29,  30],\n",
       "       [ 31,  32,  33,  34,  35,  36,  37,  38,  39,  40],\n",
       "       [ 41,  42,  43,  44,  45,  46,  47,  48,  49,  50],\n",
       "       [ 51,  52,  53,  54,  55,  56,  57,  58,  59,  60],\n",
       "       [ 61,  62,  63,  64,  65,  66,  67,  68,  69,  70],\n",
       "       [ 71,  72,  73,  74,  75,  76,  77,  78,  79,  80],\n",
       "       [ 81,  82,  83,  84,  85,  86,  87,  88,  89,  90],\n",
       "       [ 91,  92,  93,  94,  95,  96,  97,  98,  99, 100]])"
      ]
     },
     "execution_count": 21,
     "metadata": {},
     "output_type": "execute_result"
    }
   ],
   "source": [
    "a = np.arange(1,101).reshape(10,10)\n",
    "a"
   ]
  },
  {
   "cell_type": "code",
   "execution_count": 22,
   "id": "e69c75ef-338b-4144-ab85-c021f5358ad7",
   "metadata": {},
   "outputs": [
    {
     "data": {
      "text/plain": [
       "15"
      ]
     },
     "execution_count": 22,
     "metadata": {},
     "output_type": "execute_result"
    }
   ],
   "source": [
    "a[1,4]"
   ]
  },
  {
   "cell_type": "code",
   "execution_count": 23,
   "id": "86a5bcc6-6e82-4503-b02b-9fd4a0f7597d",
   "metadata": {},
   "outputs": [
    {
     "data": {
      "text/plain": [
       "array([[ 7,  8],\n",
       "       [17, 18],\n",
       "       [27, 28],\n",
       "       [37, 38],\n",
       "       [47, 48],\n",
       "       [57, 58],\n",
       "       [67, 68],\n",
       "       [77, 78],\n",
       "       [87, 88],\n",
       "       [97, 98]])"
      ]
     },
     "execution_count": 23,
     "metadata": {},
     "output_type": "execute_result"
    }
   ],
   "source": [
    "a[:,6:8]"
   ]
  },
  {
   "cell_type": "code",
   "execution_count": 24,
   "id": "4d5b45f9-b5d0-4338-8e54-6afd4bf40a7a",
   "metadata": {},
   "outputs": [
    {
     "data": {
      "text/plain": [
       "array([[11, 12, 13, 14, 15, 16, 17, 18, 19, 20],\n",
       "       [21, 22, 23, 24, 25, 26, 27, 28, 29, 30]])"
      ]
     },
     "execution_count": 24,
     "metadata": {},
     "output_type": "execute_result"
    }
   ],
   "source": [
    "a[1:3,:]"
   ]
  },
  {
   "cell_type": "code",
   "execution_count": 25,
   "id": "c919e528-b0e2-4179-8add-13804916b4cb",
   "metadata": {},
   "outputs": [
    {
     "data": {
      "text/plain": [
       "array([[61, 62, 63, 64, 65, 66, 67, 68, 69, 70],\n",
       "       [71, 72, 73, 74, 75, 76, 77, 78, 79, 80]])"
      ]
     },
     "execution_count": 25,
     "metadata": {},
     "output_type": "execute_result"
    }
   ],
   "source": [
    "a[6:8,:]"
   ]
  },
  {
   "cell_type": "code",
   "execution_count": 26,
   "id": "1a514b85-c333-4b9e-8357-d0b56ce9964e",
   "metadata": {},
   "outputs": [
    {
     "data": {
      "text/plain": [
       "array([[24, 25],\n",
       "       [34, 35]])"
      ]
     },
     "execution_count": 26,
     "metadata": {},
     "output_type": "execute_result"
    }
   ],
   "source": [
    "a[2:4,3:5]"
   ]
  },
  {
   "cell_type": "code",
   "execution_count": 27,
   "id": "14a6d803-4205-4623-a90a-4ae75e1431a5",
   "metadata": {},
   "outputs": [
    {
     "data": {
      "text/plain": [
       "array([[55, 56, 57],\n",
       "       [65, 66, 67],\n",
       "       [75, 76, 77]])"
      ]
     },
     "execution_count": 27,
     "metadata": {},
     "output_type": "execute_result"
    }
   ],
   "source": [
    "a[5:8,4:7]"
   ]
  },
  {
   "cell_type": "code",
   "execution_count": 28,
   "id": "6b08732b-51a9-43d9-978a-22f73748e8d0",
   "metadata": {},
   "outputs": [
    {
     "data": {
      "text/plain": [
       "array([[ 1,  2,  3,  4,  5,  6,  7,  8],\n",
       "       [ 9, 10, 11, 12, 13, 14, 15, 16],\n",
       "       [17, 18, 19, 20, 21, 22, 23, 24],\n",
       "       [25, 26, 27, 28, 29, 30, 31, 32],\n",
       "       [33, 34, 35, 36, 37, 38, 39, 40]])"
      ]
     },
     "execution_count": 28,
     "metadata": {},
     "output_type": "execute_result"
    }
   ],
   "source": [
    "mat = np.arange(1,41).reshape(5,8)\n",
    "mat"
   ]
  },
  {
   "cell_type": "code",
   "execution_count": 29,
   "id": "d87120f3-c96f-4045-8091-1599ea84f90f",
   "metadata": {},
   "outputs": [
    {
     "data": {
      "text/plain": [
       "array([[ 6,  8, 10, 12],\n",
       "       [22, 24, 26, 28],\n",
       "       [38, 40, 42, 44],\n",
       "       [54, 56, 58, 60],\n",
       "       [70, 72, 74, 76]])"
      ]
     },
     "execution_count": 29,
     "metadata": {},
     "output_type": "execute_result"
    }
   ],
   "source": [
    "sm1 = mat[:,:4]\n",
    "sm2 = mat[:,4:]\n",
    "sum_mat = sm1 + sm2\n",
    "sum_mat"
   ]
  },
  {
   "cell_type": "code",
   "execution_count": 30,
   "id": "fc09cb54-3a22-4c32-b927-dd0dd16a60a3",
   "metadata": {},
   "outputs": [],
   "source": [
    "def generate_data(data):\n",
    "    return {\"max\":data.max(),\n",
    "            \"min\":data.min(),\n",
    "            \"col_wise_max\":data.max(axis=0), \n",
    "            \"col_wise_min\":data.min(axis=0),\n",
    "            \"row_wise_max\":data.max(axis=1),\n",
    "            \"row_wise_min\":data.min(axis=1)}"
   ]
  },
  {
   "cell_type": "code",
   "execution_count": 31,
   "id": "0d11e13b-4167-4746-a032-1e69ad7e6a55",
   "metadata": {},
   "outputs": [
    {
     "data": {
      "text/plain": [
       "{'max': 36,\n",
       " 'min': 1,\n",
       " 'col_wise_max': array([33, 34, 35, 36]),\n",
       " 'col_wise_min': array([1, 2, 3, 4]),\n",
       " 'row_wise_max': array([ 4, 12, 20, 28, 36]),\n",
       " 'row_wise_min': array([ 1,  9, 17, 25, 33])}"
      ]
     },
     "execution_count": 31,
     "metadata": {},
     "output_type": "execute_result"
    }
   ],
   "source": [
    "generate_data(sm1)"
   ]
  },
  {
   "cell_type": "code",
   "execution_count": 32,
   "id": "cd744d98-039c-4de5-aa7e-952e3a404583",
   "metadata": {},
   "outputs": [
    {
     "data": {
      "text/plain": [
       "{'max': 40,\n",
       " 'min': 5,\n",
       " 'col_wise_max': array([37, 38, 39, 40]),\n",
       " 'col_wise_min': array([5, 6, 7, 8]),\n",
       " 'row_wise_max': array([ 8, 16, 24, 32, 40]),\n",
       " 'row_wise_min': array([ 5, 13, 21, 29, 37])}"
      ]
     },
     "execution_count": 32,
     "metadata": {},
     "output_type": "execute_result"
    }
   ],
   "source": [
    "generate_data(sm2)"
   ]
  },
  {
   "cell_type": "markdown",
   "id": "5a799263-6283-483f-9d10-05e6aab765f6",
   "metadata": {},
   "source": [
    "## Random"
   ]
  },
  {
   "cell_type": "code",
   "execution_count": 34,
   "id": "bf8da18c-9bcf-4fe6-add7-fdd3564d70e8",
   "metadata": {},
   "outputs": [],
   "source": [
    "import random"
   ]
  },
  {
   "cell_type": "code",
   "execution_count": 35,
   "id": "9cd847f5-7b48-49b6-85e8-55e07ece7403",
   "metadata": {},
   "outputs": [
    {
     "data": {
      "text/plain": [
       "array([0.84621876])"
      ]
     },
     "execution_count": 35,
     "metadata": {},
     "output_type": "execute_result"
    }
   ],
   "source": [
    "np.random.random(1)"
   ]
  },
  {
   "cell_type": "code",
   "execution_count": 36,
   "id": "37a7a57f-bb6b-4190-b965-19e460cdea82",
   "metadata": {},
   "outputs": [
    {
     "data": {
      "text/plain": [
       "array([0.60523804, 0.77002022, 0.34487246, 0.32779005, 0.14189571])"
      ]
     },
     "execution_count": 36,
     "metadata": {},
     "output_type": "execute_result"
    }
   ],
   "source": [
    "np.random.random(5)"
   ]
  },
  {
   "cell_type": "code",
   "execution_count": 37,
   "id": "c7c3bfd5-2268-455a-ab2d-909b58a8e7d0",
   "metadata": {},
   "outputs": [
    {
     "data": {
      "text/plain": [
       "array([[0.01274261, 0.96279378, 0.5875845 , 0.31545778, 0.81238997],\n",
       "       [0.92198638, 0.79763951, 0.06724639, 0.09951761, 0.60742107],\n",
       "       [0.36190619, 0.5909866 , 0.95425123, 0.11578233, 0.5381572 ],\n",
       "       [0.12994701, 0.59872639, 0.54582951, 0.8785299 , 0.73387918],\n",
       "       [0.45412489, 0.21098579, 0.34398891, 0.1827605 , 0.45072356]])"
      ]
     },
     "execution_count": 37,
     "metadata": {},
     "output_type": "execute_result"
    }
   ],
   "source": [
    "np.random.random((5,5))"
   ]
  },
  {
   "cell_type": "code",
   "execution_count": 38,
   "id": "3ade9375-66f7-4fa9-8a67-ef00e0e7435a",
   "metadata": {},
   "outputs": [
    {
     "data": {
      "text/plain": [
       "0"
      ]
     },
     "execution_count": 38,
     "metadata": {},
     "output_type": "execute_result"
    }
   ],
   "source": [
    "np.random.randint(1)"
   ]
  },
  {
   "cell_type": "code",
   "execution_count": 39,
   "id": "7e5853a9-9c4b-4233-aec6-f34d6ba70cf2",
   "metadata": {},
   "outputs": [
    {
     "data": {
      "text/plain": [
       "4"
      ]
     },
     "execution_count": 39,
     "metadata": {},
     "output_type": "execute_result"
    }
   ],
   "source": [
    "np.random.randint(5)"
   ]
  },
  {
   "cell_type": "code",
   "execution_count": 40,
   "id": "86b8eb7f-123b-4b35-96d2-1e9dd8a6e141",
   "metadata": {},
   "outputs": [
    {
     "data": {
      "text/plain": [
       "array([22, 20, 24, 20, 23, 20, 23, 22, 23, 20, 22, 23])"
      ]
     },
     "execution_count": 40,
     "metadata": {},
     "output_type": "execute_result"
    }
   ],
   "source": [
    "np.random.randint(20,25,12)"
   ]
  },
  {
   "cell_type": "code",
   "execution_count": 41,
   "id": "9cdcff64-fd44-4335-ad07-f974e4f8a9d7",
   "metadata": {},
   "outputs": [
    {
     "data": {
      "text/plain": [
       "array([[20, 22, 21, 23, 22, 21, 22, 24],\n",
       "       [24, 20, 22, 21, 22, 20, 21, 22],\n",
       "       [20, 20, 24, 24, 24, 21, 20, 20],\n",
       "       [20, 21, 22, 22, 20, 20, 20, 21],\n",
       "       [23, 20, 22, 24, 23, 24, 23, 22]])"
      ]
     },
     "execution_count": 41,
     "metadata": {},
     "output_type": "execute_result"
    }
   ],
   "source": [
    "np.random.randint(20,25,(5,8))"
   ]
  },
  {
   "cell_type": "code",
   "execution_count": 42,
   "id": "fde94f7e-2dc3-460f-9313-ed8fdd8c1cd2",
   "metadata": {},
   "outputs": [
    {
     "data": {
      "text/plain": [
       "array([[[22, 24, 22, 21, 24],\n",
       "        [20, 24, 22, 21, 22],\n",
       "        [23, 23, 20, 24, 22],\n",
       "        [23, 21, 20, 22, 24],\n",
       "        [20, 23, 23, 22, 22]],\n",
       "\n",
       "       [[23, 22, 23, 21, 20],\n",
       "        [22, 24, 20, 23, 23],\n",
       "        [23, 23, 21, 22, 24],\n",
       "        [21, 20, 22, 22, 20],\n",
       "        [21, 23, 23, 21, 22]]])"
      ]
     },
     "execution_count": 42,
     "metadata": {},
     "output_type": "execute_result"
    }
   ],
   "source": [
    "np.random.randint(20,25,(2,5,5))"
   ]
  },
  {
   "cell_type": "code",
   "execution_count": 43,
   "id": "ec1a648f-6e9a-4597-af71-69c9dc29cda5",
   "metadata": {},
   "outputs": [
    {
     "data": {
      "text/plain": [
       "63"
      ]
     },
     "execution_count": 43,
     "metadata": {},
     "output_type": "execute_result"
    }
   ],
   "source": [
    "# choice\n",
    "p = [1,5,8,9,12,4,5,63,17,58]\n",
    "np.random.choice(p)"
   ]
  },
  {
   "cell_type": "code",
   "execution_count": 44,
   "id": "78a0693d-6eb3-4f10-94b0-392ba34e79a5",
   "metadata": {},
   "outputs": [
    {
     "data": {
      "text/plain": [
       "array([ 5, 63,  9,  1,  5,  5,  9, 63, 63, 12, 12,  9])"
      ]
     },
     "execution_count": 44,
     "metadata": {},
     "output_type": "execute_result"
    }
   ],
   "source": [
    "np.random.choice(p,12)"
   ]
  },
  {
   "cell_type": "code",
   "execution_count": 45,
   "id": "8bb67416-a8ce-4e82-838c-02d729e3dc61",
   "metadata": {},
   "outputs": [
    {
     "data": {
      "text/plain": [
       "array([[ 5,  9,  8,  5, 58,  9],\n",
       "       [58,  4,  9,  4, 17,  5],\n",
       "       [17, 58, 63, 17,  5, 63],\n",
       "       [ 9, 58, 58, 63,  4, 58],\n",
       "       [ 4,  1, 63, 12,  9, 12]])"
      ]
     },
     "execution_count": 45,
     "metadata": {},
     "output_type": "execute_result"
    }
   ],
   "source": [
    "np.random.choice(p,(5,6))"
   ]
  },
  {
   "cell_type": "markdown",
   "id": "7ed0c6af-3353-4ac0-b407-ad3470e26819",
   "metadata": {},
   "source": [
    "## Permutation"
   ]
  },
  {
   "cell_type": "code",
   "execution_count": 47,
   "id": "4da7bcae-18d0-4e6a-a2b8-d20489c14f65",
   "metadata": {},
   "outputs": [
    {
     "data": {
      "text/plain": [
       "array([3, 2, 1])"
      ]
     },
     "execution_count": 47,
     "metadata": {},
     "output_type": "execute_result"
    }
   ],
   "source": [
    "k = [1,2,3]\n",
    "np.random.permutation(k)"
   ]
  },
  {
   "cell_type": "code",
   "execution_count": 48,
   "id": "897d7dca-294a-4c5e-af63-17c299b28457",
   "metadata": {},
   "outputs": [],
   "source": [
    "m1 = np.arange(1,17).reshape(4,4)\n",
    "m2 = np.arange(17,33).reshape(4,4)"
   ]
  },
  {
   "cell_type": "code",
   "execution_count": 49,
   "id": "39e95bc3-a0b9-4aed-aca7-2f270f61db69",
   "metadata": {},
   "outputs": [
    {
     "data": {
      "text/plain": [
       "array([[ 1,  2,  3,  4],\n",
       "       [ 5,  6,  7,  8],\n",
       "       [ 9, 10, 11, 12],\n",
       "       [13, 14, 15, 16]])"
      ]
     },
     "execution_count": 49,
     "metadata": {},
     "output_type": "execute_result"
    }
   ],
   "source": [
    "m1"
   ]
  },
  {
   "cell_type": "code",
   "execution_count": 50,
   "id": "eb8ae1bc-e520-4c36-aed0-54a945b975ea",
   "metadata": {},
   "outputs": [
    {
     "data": {
      "text/plain": [
       "array([[17, 18, 19, 20],\n",
       "       [21, 22, 23, 24],\n",
       "       [25, 26, 27, 28],\n",
       "       [29, 30, 31, 32]])"
      ]
     },
     "execution_count": 50,
     "metadata": {},
     "output_type": "execute_result"
    }
   ],
   "source": [
    "m2"
   ]
  },
  {
   "cell_type": "markdown",
   "id": "991478e2-daab-4f29-a7e9-8ce678a6e265",
   "metadata": {},
   "source": [
    "## Concatenate()"
   ]
  },
  {
   "cell_type": "code",
   "execution_count": 52,
   "id": "d23f51dc-18d0-489e-a03b-1b824eb93210",
   "metadata": {},
   "outputs": [
    {
     "data": {
      "text/plain": [
       "array([[ 1,  2,  3,  4],\n",
       "       [ 5,  6,  7,  8],\n",
       "       [ 9, 10, 11, 12],\n",
       "       [13, 14, 15, 16],\n",
       "       [17, 18, 19, 20],\n",
       "       [21, 22, 23, 24],\n",
       "       [25, 26, 27, 28],\n",
       "       [29, 30, 31, 32]])"
      ]
     },
     "execution_count": 52,
     "metadata": {},
     "output_type": "execute_result"
    }
   ],
   "source": [
    "np.concatenate((m1,m2))"
   ]
  },
  {
   "cell_type": "code",
   "execution_count": 53,
   "id": "723664d6-e8b3-43c2-a02d-2a26c878be76",
   "metadata": {},
   "outputs": [
    {
     "data": {
      "text/plain": [
       "array([[ 1,  2,  3,  4, 17, 18, 19, 20],\n",
       "       [ 5,  6,  7,  8, 21, 22, 23, 24],\n",
       "       [ 9, 10, 11, 12, 25, 26, 27, 28],\n",
       "       [13, 14, 15, 16, 29, 30, 31, 32]])"
      ]
     },
     "execution_count": 53,
     "metadata": {},
     "output_type": "execute_result"
    }
   ],
   "source": [
    "np.concatenate((m1,m2), axis=1)"
   ]
  },
  {
   "cell_type": "markdown",
   "id": "a63a28bb-b505-497e-9183-0ef16130ecee",
   "metadata": {},
   "source": [
    "## Split()"
   ]
  },
  {
   "cell_type": "code",
   "execution_count": 55,
   "id": "695cb111-1831-448b-b3d9-ee355e402e8f",
   "metadata": {},
   "outputs": [
    {
     "data": {
      "text/plain": [
       "[array([[1, 2, 3, 4],\n",
       "        [5, 6, 7, 8]]),\n",
       " array([[ 9, 10, 11, 12],\n",
       "        [13, 14, 15, 16]])]"
      ]
     },
     "execution_count": 55,
     "metadata": {},
     "output_type": "execute_result"
    }
   ],
   "source": [
    "np.split(m1,2)"
   ]
  },
  {
   "cell_type": "markdown",
   "id": "0c343c20-2b6e-4c25-958a-b02f9d3ce21a",
   "metadata": {},
   "source": [
    "## Generate NumPy Data for House Price"
   ]
  },
  {
   "cell_type": "code",
   "execution_count": 57,
   "id": "f94d23e1-6b5e-42c9-93bc-12fe07c47134",
   "metadata": {},
   "outputs": [],
   "source": [
    "# area, valcanie, bhk, houseprice\n",
    "\n",
    "valcanie = np.random.randint(1,6,100)\n",
    "area = np.random.randint(600,2000,100)\n",
    "bhk = np.random.randint(1,6,100)\n",
    "price = np.random.randint(423000,2500000,100)\n",
    "data = np.zeros((100,4),dtype=int)"
   ]
  },
  {
   "cell_type": "code",
   "execution_count": 58,
   "id": "cb11a777-eb2c-4414-94fb-ddb6ec2a4749",
   "metadata": {},
   "outputs": [],
   "source": [
    "data[:,1] = valcanie\n",
    "data[:,0] = area\n",
    "data[:,2] = bhk\n",
    "data[:,3] = price"
   ]
  },
  {
   "cell_type": "code",
   "execution_count": 110,
   "id": "8c7de49b-f3aa-487f-a73f-5f942e45b64d",
   "metadata": {},
   "outputs": [
    {
     "data": {
      "text/plain": [
       "array([[   1680,       4,       1,  790255],\n",
       "       [   1584,       4,       4, 1479742],\n",
       "       [   1668,       3,       4, 2236801],\n",
       "       [   1724,       4,       3, 1813506],\n",
       "       [   1207,       4,       2, 1161492],\n",
       "       [   1004,       1,       3, 2053083],\n",
       "       [   1613,       3,       5, 2119885],\n",
       "       [   1374,       3,       1,  581890],\n",
       "       [    965,       3,       2,  715463],\n",
       "       [   1935,       3,       4, 2411882]])"
      ]
     },
     "execution_count": 110,
     "metadata": {},
     "output_type": "execute_result"
    }
   ],
   "source": [
    "data[:10]"
   ]
  },
  {
   "cell_type": "code",
   "execution_count": null,
   "id": "10bfd24c-693a-42a0-965d-abc5fff13fac",
   "metadata": {},
   "outputs": [],
   "source": []
  }
 ],
 "metadata": {
  "kernelspec": {
   "display_name": "anaconda-ai-2023-11",
   "language": "python",
   "name": "conda-env-anaconda-ai-2023-11-py"
  },
  "language_info": {
   "codemirror_mode": {
    "name": "ipython",
    "version": 3
   },
   "file_extension": ".py",
   "mimetype": "text/x-python",
   "name": "python",
   "nbconvert_exporter": "python",
   "pygments_lexer": "ipython3",
   "version": "3.10.13"
  }
 },
 "nbformat": 4,
 "nbformat_minor": 5
}
