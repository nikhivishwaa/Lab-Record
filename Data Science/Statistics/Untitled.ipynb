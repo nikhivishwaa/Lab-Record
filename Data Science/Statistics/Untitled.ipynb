{
 "cells": [
  {
   "cell_type": "markdown",
   "id": "acf05084",
   "metadata": {},
   "source": [
    "## Statistics"
   ]
  },
  {
   "cell_type": "code",
   "execution_count": 12,
   "id": "fe2d8436",
   "metadata": {},
   "outputs": [],
   "source": [
    "age = [23,24,32,12,43,67,45,32,56,32,160]"
   ]
  },
  {
   "cell_type": "code",
   "execution_count": 2,
   "id": "7443bb2e",
   "metadata": {},
   "outputs": [
    {
     "data": {
      "text/plain": [
       "47.81818181818182"
      ]
     },
     "execution_count": 2,
     "metadata": {},
     "output_type": "execute_result"
    }
   ],
   "source": [
    "import numpy as np\n",
    "\n",
    "np.mean(age)"
   ]
  },
  {
   "cell_type": "code",
   "execution_count": 3,
   "id": "7664fa50",
   "metadata": {},
   "outputs": [
    {
     "data": {
      "text/plain": [
       "32.0"
      ]
     },
     "execution_count": 3,
     "metadata": {},
     "output_type": "execute_result"
    }
   ],
   "source": [
    "np.median(age)"
   ]
  },
  {
   "cell_type": "code",
   "execution_count": 4,
   "id": "00d60f42",
   "metadata": {},
   "outputs": [
    {
     "ename": "AttributeError",
     "evalue": "module 'numpy' has no attribute 'mode'",
     "output_type": "error",
     "traceback": [
      "\u001b[1;31m---------------------------------------------------------------------------\u001b[0m",
      "\u001b[1;31mAttributeError\u001b[0m                            Traceback (most recent call last)",
      "Cell \u001b[1;32mIn[4], line 1\u001b[0m\n\u001b[1;32m----> 1\u001b[0m \u001b[43mnp\u001b[49m\u001b[38;5;241;43m.\u001b[39;49m\u001b[43mmode\u001b[49m(age)\n",
      "File \u001b[1;32mC:\\ProgramData\\anaconda3\\Lib\\site-packages\\numpy\\__init__.py:320\u001b[0m, in \u001b[0;36m__getattr__\u001b[1;34m(attr)\u001b[0m\n\u001b[0;32m    317\u001b[0m     \u001b[38;5;28;01mfrom\u001b[39;00m \u001b[38;5;21;01m.\u001b[39;00m\u001b[38;5;21;01mtesting\u001b[39;00m \u001b[38;5;28;01mimport\u001b[39;00m Tester\n\u001b[0;32m    318\u001b[0m     \u001b[38;5;28;01mreturn\u001b[39;00m Tester\n\u001b[1;32m--> 320\u001b[0m \u001b[38;5;28;01mraise\u001b[39;00m \u001b[38;5;167;01mAttributeError\u001b[39;00m(\u001b[38;5;124m\"\u001b[39m\u001b[38;5;124mmodule \u001b[39m\u001b[38;5;132;01m{!r}\u001b[39;00m\u001b[38;5;124m has no attribute \u001b[39m\u001b[38;5;124m\"\u001b[39m\n\u001b[0;32m    321\u001b[0m                      \u001b[38;5;124m\"\u001b[39m\u001b[38;5;132;01m{!r}\u001b[39;00m\u001b[38;5;124m\"\u001b[39m\u001b[38;5;241m.\u001b[39mformat(\u001b[38;5;18m__name__\u001b[39m, attr))\n",
      "\u001b[1;31mAttributeError\u001b[0m: module 'numpy' has no attribute 'mode'"
     ]
    }
   ],
   "source": [
    "np.mode(age)"
   ]
  },
  {
   "cell_type": "code",
   "execution_count": 5,
   "id": "bf29ce61",
   "metadata": {},
   "outputs": [],
   "source": [
    "import statistics as st"
   ]
  },
  {
   "cell_type": "code",
   "execution_count": 8,
   "id": "7832d386",
   "metadata": {},
   "outputs": [
    {
     "data": {
      "text/plain": [
       "'m : 47.818 | md : 32 | mo : 32'"
      ]
     },
     "execution_count": 8,
     "metadata": {},
     "output_type": "execute_result"
    }
   ],
   "source": [
    "stats = f'm : {st.mean(age):.3f} | md : {st.median(age)} | mo : {st.mode(age)}'\n",
    "\n",
    "stats"
   ]
  },
  {
   "cell_type": "code",
   "execution_count": 13,
   "id": "8963e7a5",
   "metadata": {},
   "outputs": [
    {
     "data": {
      "text/plain": [
       "<Axes: >"
      ]
     },
     "execution_count": 13,
     "metadata": {},
     "output_type": "execute_result"
    },
    {
     "data": {
      "image/png": "[encoded data removed]",
      "text/plain": [
       "<Figure size 640x480 with 1 Axes>"
      ]
     },
     "metadata": {},
     "output_type": "display_data"
    }
   ],
   "source": [
    "import seaborn as sns\n",
    "\n",
    "age = [23,24,32,12,43,67,45,32,56,32,160,200,300]\n",
    "sns.boxplot(age)"
   ]
  },
  {
   "cell_type": "markdown",
   "id": "2af11c8a",
   "metadata": {},
   "source": [
    "##### 5 no summary min, q1, median, q3, max"
   ]
  },
  {
   "cell_type": "code",
   "execution_count": 15,
   "id": "fbb25c9b",
   "metadata": {},
   "outputs": [
    {
     "name": "stdout",
     "output_type": "stream",
     "text": [
      "lf: -20.5 \n",
      "q1 :32.0\n",
      "md :43.0\n",
      "q3: 67.0\n",
      "hf: 119.5\n"
     ]
    }
   ],
   "source": [
    "q1, q3 = np.percentile(age,[25,75])\n",
    "iqr = q3 - q1\n",
    "lf = q1 - 1.5 * iqr\n",
    "hf = q3 + 1.5 * iqr\n",
    "md = np.median(age)\n",
    "\n",
    "print(f'lf: {lf} \\nq1 :{q1}\\nmd :{md}\\nq3: {q3}\\nhf: {hf}')"
   ]
  },
  {
   "cell_type": "code",
   "execution_count": 27,
   "id": "89e9d51c",
   "metadata": {},
   "outputs": [],
   "source": [
    "def variance(data):\n",
    "    n = len(data)\n",
    "    mean = sum(data) / n\n",
    "    deviation = [(i - mean)**2 for i in data]\n",
    "    var = sum(deviation) / n\n",
    "    return var"
   ]
  },
  {
   "cell_type": "code",
   "execution_count": 28,
   "id": "5cf7099b",
   "metadata": {},
   "outputs": [
    {
     "data": {
      "text/plain": [
       "6957.30177514793"
      ]
     },
     "execution_count": 28,
     "metadata": {},
     "output_type": "execute_result"
    }
   ],
   "source": [
    "variance(age)"
   ]
  },
  {
   "cell_type": "code",
   "execution_count": 24,
   "id": "918f4352",
   "metadata": {},
   "outputs": [
    {
     "data": {
      "text/plain": [
       "6957.30177514793"
      ]
     },
     "execution_count": 24,
     "metadata": {},
     "output_type": "execute_result"
    }
   ],
   "source": [
    "np.var(age)"
   ]
  },
  {
   "cell_type": "code",
   "execution_count": 29,
   "id": "1fd9be6c",
   "metadata": {},
   "outputs": [],
   "source": [
    "import math\n",
    "def standard_deviation(var):\n",
    "    return math.sqrt(variance(age))"
   ]
  },
  {
   "cell_type": "code",
   "execution_count": 30,
   "id": "aecf30f8",
   "metadata": {},
   "outputs": [
    {
     "data": {
      "text/plain": [
       "83.41044164340535"
      ]
     },
     "execution_count": 30,
     "metadata": {},
     "output_type": "execute_result"
    }
   ],
   "source": [
    "standard_deviation(age)"
   ]
  },
  {
   "cell_type": "code",
   "execution_count": 31,
   "id": "dbdf916e",
   "metadata": {},
   "outputs": [
    {
     "data": {
      "text/plain": [
       "83.41044164340535"
      ]
     },
     "execution_count": 31,
     "metadata": {},
     "output_type": "execute_result"
    }
   ],
   "source": [
    "np.std(age)"
   ]
  },
  {
   "cell_type": "code",
   "execution_count": null,
   "id": "d1108342",
   "metadata": {},
   "outputs": [],
   "source": []
  }
 ],
 "metadata": {
  "kernelspec": {
   "display_name": "Python 3 (ipykernel)",
   "language": "python",
   "name": "python3"
  },
  "language_info": {
   "codemirror_mode": {
    "name": "ipython",
    "version": 3
   },
   "file_extension": ".py",
   "mimetype": "text/x-python",
   "name": "python",
   "nbconvert_exporter": "python",
   "pygments_lexer": "ipython3",
   "version": "3.11.3"
  }
 },
 "nbformat": 4,
 "nbformat_minor": 5
}
