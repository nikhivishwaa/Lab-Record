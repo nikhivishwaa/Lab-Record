{
 "cells": [
  {
   "cell_type": "code",
   "execution_count": 1,
   "id": "19010fd3",
   "metadata": {},
   "outputs": [
    {
     "name": "stdout",
     "output_type": "stream",
     "text": [
      "Total head movement: 640\n"
     ]
    }
   ],
   "source": [
    "def fcfs_scheduling(sequence, start):\n",
    "    \n",
    "    total_head_movement = 0\n",
    "    current_position = start\n",
    "    \n",
    "    \n",
    "    for request in sequence:\n",
    "        total_head_movement += abs(current_position - request)\n",
    "        current_position = request\n",
    "    \n",
    "    return total_head_movement\n",
    "\n",
    "\n",
    "if __name__ == \"__main__\":\n",
    "    \n",
    "    request_sequence = [98, 183, 37, 122, 14, 124, 65, 67]\n",
    "    initial_position = 53\n",
    "    \n",
    "    total_movement = fcfs_scheduling(request_sequence, initial_position)\n",
    "    print(\"Total head movement:\", total_movement)\n"
   ]
  },
  {
   "cell_type": "code",
   "execution_count": 6,
   "id": "02df9e87",
   "metadata": {},
   "outputs": [
    {
     "name": "stdout",
     "output_type": "stream",
     "text": [
      "Total head movement: 640\n"
     ]
    }
   ],
   "source": [
    "def fcfs(seq,start):\n",
    "    total_head_movements =0\n",
    "    current_pos =start\n",
    "    \n",
    "    for i in seq:\n",
    "        total_head_movements=total_head_movements+ abs(current_pos-i)\n",
    "        current_pos=i\n",
    "    return total_head_movements\n",
    "\n",
    "if __name__ == \"__main__\":\n",
    "    \n",
    "    sequence = [98, 183, 37, 122, 14, 124, 65, 67]\n",
    "    initial_pos = 53\n",
    "    \n",
    "    total_movement = fcfs(sequence, initial_pos)\n",
    "    print(\"Total head movement:\", total_movement)"
   ]
  },
  {
   "cell_type": "markdown",
   "id": "d84f21c9",
   "metadata": {},
   "source": [
    "# 5. WRITE A PROGRAM TO IMPLIMENT SSTF DISK SCHEDULING ALGORITHM"
   ]
  },
  {
   "cell_type": "code",
   "execution_count": 4,
   "id": "46f4ee83",
   "metadata": {},
   "outputs": [
    {
     "name": "stdout",
     "output_type": "stream",
     "text": [
      "Total Seek Time: 236\n"
     ]
    }
   ],
   "source": [
    "def disk_scheduling(seq, start):\n",
    "    \n",
    "    sequence_copy = seq.copy()\n",
    "  \n",
    "    totalseektime = 0\n",
    "    current_position = start\n",
    "    while sequence_copy:\n",
    "        next = min(sequence_copy, key=lambda x: abs(x - current_position))\n",
    "        seek_time = abs(next - current_position)\n",
    "        totalseektime += seek_time\n",
    "        current_position = next\n",
    "        sequence_copy.remove(next)\n",
    "    return totalseektime\n",
    "\n",
    "if __name__ == \"__main__\":\n",
    "   \n",
    "    seq = [98, 183, 37, 122, 14, 124, 65, 67] \n",
    "    start = 53 \n",
    "    totalseektime = disk_scheduling(seq, start)\n",
    "    print(\"Total Seek Time:\", totalseektime)\n"
   ]
  },
  {
   "cell_type": "code",
   "execution_count": null,
   "id": "14b79b6c",
   "metadata": {},
   "outputs": [],
   "source": [
    "# 6. WRITE A PROGRAM TO IMPLIMENT FcFS CPU SCHEDULING ALGORITHM"
   ]
  },
  {
   "cell_type": "code",
   "execution_count": 10,
   "id": "8f7f6534",
   "metadata": {},
   "outputs": [
    {
     "name": "stdout",
     "output_type": "stream",
     "text": [
      "Average Waiting Time: 17.25\n",
      "Average Turnaround Time: 26.25\n"
     ]
    }
   ],
   "source": [
    "def fcfs_scheduling(queue):\n",
    "    \n",
    "    total_wait_time = 0\n",
    "    total_turnaround = 0\n",
    "    current_time = 0\n",
    "  \n",
    "    for i in queue:\n",
    "       \n",
    "        wait_time = max(0, current_time - i['arrival'])\n",
    "\n",
    "        turnaround = wait_time + i['burst']\n",
    "\n",
    "        total_wait_time += wait_time\n",
    "        total_turnaround += turnaround\n",
    "\n",
    "        current_time += i['burst']\n",
    "\n",
    "    avg_wait_time = total_wait_time / len(queue)\n",
    "    avg_turnaround = total_turnaround / len(queue)\n",
    "\n",
    "    return avg_wait_time, avg_turnaround\n",
    "\n",
    "\n",
    "if __name__ == \"__main__\":\n",
    "  \n",
    "    queue = [\n",
    "        {'process-id': 1, 'arrival': 0, 'burst': 24},\n",
    "        {'process-id': 2, 'arrival': 3, 'burst': 3},\n",
    "        {'process-id': 3, 'arrival': 4, 'burst': 4},\n",
    "        {'process-id': 4, 'arrival': 6, 'burst': 5},\n",
    "    ]\n",
    "\n",
    "    avg_waiting_time, avg_turnaround_time = fcfs_scheduling(queue)\n",
    "\n",
    "    print(\"Average Waiting Time:\", avg_waiting_time)\n",
    "    print(\"Average Turnaround Time:\", avg_turnaround_time)\n"
   ]
  },
  {
   "cell_type": "code",
   "execution_count": 2,
   "id": "7911fb89",
   "metadata": {},
   "outputs": [
    {
     "name": "stdout",
     "output_type": "stream",
     "text": [
      "Total Seek Time: 322\n"
     ]
    }
   ],
   "source": [
    "def disk_scheduling(seq, start):\n",
    "    \n",
    "    sequence_copy = seq.copy()\n",
    "  \n",
    "    totalseektime = 0\n",
    "    current_position = start\n",
    "    while sequence_copy:\n",
    "        next = min(sequence_copy, key=lambda x: abs(x - current_position))\n",
    "        seek_time = abs(next - current_position)\n",
    "        totalseektime += seek_time\n",
    "        current_position = next\n",
    "        sequence_copy.remove(next)\n",
    "    return totalseektime\n",
    "\n",
    "if __name__ == \"__main__\":\n",
    "   \n",
    "    seq = [185,15,195,65,155,85,170,90] \n",
    "    start = 53 \n",
    "    totalseektime = disk_scheduling(seq, start)\n",
    "    print(\"Total Seek Time:\", totalseektime)\n"
   ]
  },
  {
   "cell_type": "code",
   "execution_count": null,
   "id": "9d7cff3c",
   "metadata": {},
   "outputs": [],
   "source": []
  }
 ],
 "metadata": {
  "kernelspec": {
   "display_name": "Python 3 (ipykernel)",
   "language": "python",
   "name": "python3"
  },
  "language_info": {
   "codemirror_mode": {
    "name": "ipython",
    "version": 3
   },
   "file_extension": ".py",
   "mimetype": "text/x-python",
   "name": "python",
   "nbconvert_exporter": "python",
   "pygments_lexer": "ipython3",
   "version": "3.11.3"
  }
 },
 "nbformat": 4,
 "nbformat_minor": 5
}
