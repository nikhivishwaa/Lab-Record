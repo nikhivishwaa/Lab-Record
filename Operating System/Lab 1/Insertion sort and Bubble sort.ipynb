{
 "cells": [
  {
   "cell_type": "markdown",
   "id": "1405eef0",
   "metadata": {},
   "source": [
    "# Insertion Sort"
   ]
  },
  {
   "cell_type": "code",
   "execution_count": 26,
   "id": "ffc381d3",
   "metadata": {},
   "outputs": [
    {
     "name": "stdout",
     "output_type": "stream",
     "text": [
      "Enter list element: 45 14 78 96 21 54 63 25 89 63 24 12 36 58\n"
     ]
    },
    {
     "data": {
      "text/plain": [
       "[12, 14, 21, 24, 25, 36, 45, 54, 58, 63, 63, 78, 89, 96]"
      ]
     },
     "execution_count": 26,
     "metadata": {},
     "output_type": "execute_result"
    }
   ],
   "source": [
    "def insertion_sort(*args):\n",
    "    sort_list = list(args)\n",
    "    for i in range(len(sort_list)-1):\n",
    "        for j, value in enumerate(sort_list[i+1:]):\n",
    "            if sort_list[i]>value: \n",
    "                sort_list[j+i+1], sort_list[i] = sort_list[i], value\n",
    "#         print(sort_list)\n",
    "    return sort_list\n",
    "            \n",
    "        \n",
    "lst = [int(i) for i in input(\"Enter list element: \").split()]\n",
    "insertion_sort(*lst)"
   ]
  },
  {
   "cell_type": "markdown",
   "id": "41b9502f",
   "metadata": {},
   "source": [
    "# Bubble Sort"
   ]
  },
  {
   "cell_type": "code",
   "execution_count": 27,
   "id": "2faadb1d",
   "metadata": {},
   "outputs": [
    {
     "name": "stdout",
     "output_type": "stream",
     "text": [
      "Enter list element: 45 14 25 78 41 23 65 10 23\n"
     ]
    },
    {
     "data": {
      "text/plain": [
       "[10, 14, 23, 23, 25, 41, 45, 65, 78]"
      ]
     },
     "execution_count": 27,
     "metadata": {},
     "output_type": "execute_result"
    }
   ],
   "source": [
    "def Bubble_sort(*args):\n",
    "    sort_list = list(args)\n",
    "    for i in range(len(sort_list)):\n",
    "        for j in range(len(sort_list)-1):\n",
    "            if sort_list[j]>sort_list[j+1]: \n",
    "                sort_list[j+1], sort_list[j] = sort_list[j], sort_list[j+1]\n",
    "#         print(sort_list)\n",
    "    return sort_list\n",
    "            \n",
    "        \n",
    "lst = [int(i) for i in input(\"Enter list element: \").split()]\n",
    "Bubble_sort(*lst)"
   ]
  },
  {
   "cell_type": "code",
   "execution_count": null,
   "id": "35fc2e8e",
   "metadata": {},
   "outputs": [],
   "source": []
  }
 ],
 "metadata": {
  "kernelspec": {
   "display_name": "Python 3 (ipykernel)",
   "language": "python",
   "name": "python3"
  },
  "language_info": {
   "codemirror_mode": {
    "name": "ipython",
    "version": 3
   },
   "file_extension": ".py",
   "mimetype": "text/x-python",
   "name": "python",
   "nbconvert_exporter": "python",
   "pygments_lexer": "ipython3",
   "version": "3.11.3"
  }
 },
 "nbformat": 4,
 "nbformat_minor": 5
}
