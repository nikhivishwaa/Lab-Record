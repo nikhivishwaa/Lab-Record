{
 "cells": [
  {
   "cell_type": "markdown",
   "id": "5ba97607",
   "metadata": {},
   "source": [
    "## Lab 10: Implement Least recent used page replacement algorithm in python"
   ]
  },
  {
   "cell_type": "code",
   "execution_count": 5,
   "id": "a31da555",
   "metadata": {},
   "outputs": [
    {
     "name": "stdout",
     "output_type": "stream",
     "text": [
      "Enter page request: 4 3 2 1 4 3 5 4 3 2 1 5\n",
      "Page 4 caused a page fault. Frames: [4]\n",
      "Page 3 caused a page fault. Frames: [4, 3]\n",
      "Page 2 caused a page fault. Frames: [4, 3, 2]\n",
      "Page 1 caused a page fault. Frames: [3, 2, 1]\n",
      "Page 4 caused a page fault. Frames: [2, 1, 4]\n",
      "Page 3 caused a page fault. Frames: [1, 4, 3]\n",
      "Page 5 caused a page fault. Frames: [4, 3, 5]\n",
      "Page 4 did not cause a page fault. Frames: [4, 3, 5]\n",
      "Page 3 did not cause a page fault. Frames: [4, 3, 5]\n",
      "Page 2 caused a page fault. Frames: [4, 3, 2]\n",
      "Page 1 caused a page fault. Frames: [3, 2, 1]\n",
      "Page 5 caused a page fault. Frames: [2, 1, 5]\n",
      "Total page faults: 10\n"
     ]
    }
   ],
   "source": [
    "class LRUPageReplacement:\n",
    "    def __init__(self, capacity):\n",
    "        self.capacity = capacity  \n",
    "        self.frames = []          \n",
    "        self.page_faults = 0   \n",
    "        self.recent = []\n",
    "\n",
    "    def process_page(self, page):\n",
    "        \n",
    "        if page not in self.frames:\n",
    "            self.page_faults += 1\n",
    "            \n",
    "            if len(self.frames) < self.capacity:\n",
    "                self.frames.append(page)\n",
    "                self.recent.append(page)\n",
    "                \n",
    "            else:\n",
    "                self.frames.remove(self.recent[0])\n",
    "                self.frames.append(page)\n",
    "                if len(self.recent) == capacity:\n",
    "                    self.recent.pop(0)\n",
    "                    self.recent.append(page)\n",
    "            print(f\"Page {page} caused a page fault. Frames: {self.frames}\")\n",
    "        else:\n",
    "            self.recent.pop(0)\n",
    "            self.recent.append(page)\n",
    "            print(f\"Page {page} did not cause a page fault. Frames: {self.frames}\")\n",
    "\n",
    "    def get_page_faults(self):\n",
    "        return self.page_faults\n",
    "\n",
    "if __name__ == \"__main__\":\n",
    "    \n",
    "    capacity = 3\n",
    "    lru = LRUPageReplacement(capacity)\n",
    "    \n",
    "    pages = [int(i) for i in input(\"Enter page request: \").split()]\n",
    "   \n",
    "    for page in pages:\n",
    "        lru.process_page(page)\n",
    "   \n",
    "    print(f\"Total page faults: {lru.get_page_faults()}\")"
   ]
  },
  {
   "cell_type": "code",
   "execution_count": null,
   "id": "148ad09a",
   "metadata": {},
   "outputs": [],
   "source": []
  }
 ],
 "metadata": {
  "kernelspec": {
   "display_name": "Python 3 (ipykernel)",
   "language": "python",
   "name": "python3"
  },
  "language_info": {
   "codemirror_mode": {
    "name": "ipython",
    "version": 3
   },
   "file_extension": ".py",
   "mimetype": "text/x-python",
   "name": "python",
   "nbconvert_exporter": "python",
   "pygments_lexer": "ipython3",
   "version": "3.11.3"
  }
 },
 "nbformat": 4,
 "nbformat_minor": 5
}
