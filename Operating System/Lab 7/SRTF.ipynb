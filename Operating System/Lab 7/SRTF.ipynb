{
 "cells": [
  {
   "cell_type": "markdown",
   "id": "0452078c",
   "metadata": {},
   "source": [
    "### Shortest Remaining Time First (Pre - Emptive) CPU Scheduling"
   ]
  },
  {
   "cell_type": "code",
   "execution_count": 24,
   "id": "5a9f2e07",
   "metadata": {},
   "outputs": [
    {
     "name": "stdout",
     "output_type": "stream",
     "text": [
      "PID\tArrival\tBurst\tCompletion\tTurnaround\tWaiting\n",
      "1\t0\t8\t17\t\t17\t\t9\n",
      "2\t1\t4\t5\t\t4\t\t0\n",
      "3\t2\t9\t26\t\t24\t\t15\n",
      "4\t3\t5\t10\t\t7\t\t2\n",
      "\n",
      "Average Turnaround Time: 13.0\n",
      "Average Waiting Time: 6.5\n"
     ]
    }
   ],
   "source": [
    "class Process:\n",
    "    def __init__(self, ID, AT, BT):\n",
    "        self.pid = ID\n",
    "        self.at = AT\n",
    "        self.bt = BT\n",
    "        self.RMT = BT\n",
    "        self.ct = 0\n",
    "        self.start = -1\n",
    "\n",
    "def srtf_scheduling(processes):\n",
    "    time = 0\n",
    "    complete = 0\n",
    "    n = len(processes)\n",
    "    current_process = None\n",
    "\n",
    "    while complete != n:\n",
    "        # Select the process with the shortest remaining time at the current time\n",
    "        for process in processes:\n",
    "            if process.at <= time and process.RMT > 0:\n",
    "                if current_process is None or process.RMT < current_process.RMT:\n",
    "                    current_process = process\n",
    "\n",
    "        if current_process is None:\n",
    "            time += 1\n",
    "            continue\n",
    "\n",
    "        # If it's the first time the process is being executed, set its start time\n",
    "        if current_process.start == -1:\n",
    "            current_process.start = time\n",
    "\n",
    "        # Execute the current process\n",
    "        current_process.RMT -= 1\n",
    "        time += 1\n",
    "\n",
    "        # If the current process is complete\n",
    "        if current_process.RMT == 0:\n",
    "            current_process.ct = time\n",
    "            complete += 1\n",
    "            current_process = None\n",
    "\n",
    "    # Calculate and print the results\n",
    "    total_TAT = 0\n",
    "    total_WT = 0\n",
    "\n",
    "    print(\"PID\\tArrival\\tBurst\\tCompletion\\tTurnaround\\tWaiting\")\n",
    "    for process in processes:\n",
    "        TAT = process.ct - process.at\n",
    "        WT = TAT - process.bt\n",
    "        total_TAT += TAT\n",
    "        total_WT += WT\n",
    "        print(f\"{process.pid}\\t{process.at}\\t{process.bt}\\t{process.ct}\\t\\t{TAT}\\t\\t{WT}\")\n",
    "\n",
    "    print(f\"\\nAverage Turnaround Time: {total_TAT / n}\")\n",
    "    print(f\"Average Waiting Time: {total_WT / n}\")\n",
    "\n",
    "processes = [\n",
    "    Process(1, 0, 8),\n",
    "    Process(2, 1, 4),\n",
    "    Process(3, 2, 9),\n",
    "    Process(4, 3, 5)\n",
    "]\n",
    "srtf_scheduling(processes)"
   ]
  },
  {
   "cell_type": "code",
   "execution_count": null,
   "id": "66b4a241",
   "metadata": {},
   "outputs": [],
   "source": []
  }
 ],
 "metadata": {
  "kernelspec": {
   "display_name": "Python 3 (ipykernel)",
   "language": "python",
   "name": "python3"
  },
  "language_info": {
   "codemirror_mode": {
    "name": "ipython",
    "version": 3
   },
   "file_extension": ".py",
   "mimetype": "text/x-python",
   "name": "python",
   "nbconvert_exporter": "python",
   "pygments_lexer": "ipython3",
   "version": "3.11.3"
  }
 },
 "nbformat": 4,
 "nbformat_minor": 5
}
