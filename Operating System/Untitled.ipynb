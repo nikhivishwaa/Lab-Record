{
 "cells": [
  {
   "cell_type": "code",
   "execution_count": null,
   "id": "4725e0d3",
   "metadata": {},
   "outputs": [],
   "source": [
    "def fcfsscheduling(queue)\n",
    "total_wait_time = 0\n",
    "total_turnaround_time=0\n",
    "current_time =0\n",
    "for i in range(queue-1)\n",
    "wait_time=max(0,cureent_time-i['arrial'])\n",
    "turnaround_time= wait_time + i['burst']\n"
   ]
  }
 ],
 "metadata": {
  "kernelspec": {
   "display_name": "Python 3 (ipykernel)",
   "language": "python",
   "name": "python3"
  },
  "language_info": {
   "codemirror_mode": {
    "name": "ipython",
    "version": 3
   },
   "file_extension": ".py",
   "mimetype": "text/x-python",
   "name": "python",
   "nbconvert_exporter": "python",
   "pygments_lexer": "ipython3",
   "version": "3.11.3"
  }
 },
 "nbformat": 4,
 "nbformat_minor": 5
}
