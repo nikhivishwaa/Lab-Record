{
 "cells": [
  {
   "cell_type": "markdown",
   "id": "3543b6e2-dd30-478d-8bf6-6dc959b7e0b2",
   "metadata": {},
   "source": [
    "<h3 style=\"text-align:center;\">Lab 1</h3>"
   ]
  },
  {
   "cell_type": "markdown",
   "id": "dd9ab6f7-6e53-4fc9-b6f4-50d4e78c0a2e",
   "metadata": {},
   "source": [
    "### Program 1: WAP to implemnt DFA that accepts all strings of length atleast 2 define over 'a','b'"
   ]
  },
  {
   "cell_type": "code",
   "execution_count": 5,
   "id": "eeba96b2-3644-482d-9944-9571826aa7f0",
   "metadata": {},
   "outputs": [],
   "source": [
    "def state_q0(i):\n",
    "    if i in ('a','b'):\n",
    "        globals()['state']='q1'\n",
    "    else:\n",
    "        raise ValueError(\"invalid input symbol\")\n",
    "\n",
    "def state_q1(i):\n",
    "    if i in ('a','b'):\n",
    "        globals()['state']='q2'\n",
    "    else:\n",
    "        raise ValueError(\"invalid input symbol\")\n",
    "\n",
    "def state_q2(i):\n",
    "    if i in ('a','b'):\n",
    "        globals()['state']='q2'\n",
    "    else:\n",
    "        raise ValueError(\"invalid input symbol\")"
   ]
  },
  {
   "cell_type": "code",
   "execution_count": 7,
   "id": "c8e118f4-c5e4-48d3-ae39-aed834bf321d",
   "metadata": {},
   "outputs": [
    {
     "name": "stdin",
     "output_type": "stream",
     "text": [
      "Enter input string containing a&b:  abb\n"
     ]
    },
    {
     "name": "stdout",
     "output_type": "stream",
     "text": [
      "String is accepted\n"
     ]
    }
   ],
   "source": [
    "state = 'q0'\n",
    "input_str = input('Enter input string containing a&b: ')\n",
    "try:\n",
    "    for i in input_str:\n",
    "        if state=='q0':\n",
    "            state_q0(i)\n",
    "        elif state=='q1':\n",
    "            state_q1(i)\n",
    "        else:\n",
    "            state_q2(i)\n",
    "    \n",
    "    if state=='q2':\n",
    "        print(\"String is accepted\")\n",
    "    else:\n",
    "        print(\"String is rejected\")\n",
    "except Exception as e:\n",
    "    print(\"Invalid String\")"
   ]
  },
  {
   "cell_type": "markdown",
   "id": "47d26c7e-846b-4841-a09f-08fc53f74f69",
   "metadata": {},
   "source": [
    "### Program 2: WAP to implement DFA that accepts set of all strings which start with '0' & ends with '1'"
   ]
  },
  {
   "cell_type": "code",
   "execution_count": 8,
   "id": "15e3094e-8bba-4f79-ba6a-c40811fac5e2",
   "metadata": {},
   "outputs": [],
   "source": [
    "class DFA2:        \n",
    "    def state_q0(self,i):\n",
    "        if i == '0':\n",
    "            self.state = 'q1'\n",
    "        elif i == '1':\n",
    "            self.state = 'q2'\n",
    "        else:\n",
    "            raise ValueError('Invalid String')\n",
    "        \n",
    "    def state_q1(self,i):\n",
    "        if i == '0':\n",
    "            self.state = 'q1'\n",
    "        elif i == '1':\n",
    "            self.state = 'q3'\n",
    "        else:\n",
    "            raise ValueError('Invalid String')\n",
    "        \n",
    "    def state_q2(self,i):\n",
    "        if i in ('0', '1'):\n",
    "            self.state = 'q2'\n",
    "        else:\n",
    "            raise ValueError('Invalid String')\n",
    "            \n",
    "    def state_q3(self,i):\n",
    "        if i == '0':\n",
    "            self.state = 'q1'\n",
    "        elif i == '1':\n",
    "            self.state = 'q3'\n",
    "        else:\n",
    "            raise ValueError('Invalid String')\n",
    "\n",
    "    def validate_string(self,):\n",
    "        self.state = 'q0'\n",
    "        input_str = input('Enter input string containing 0&1: ')\n",
    "        try:\n",
    "            for i in input_str:\n",
    "                if self.state=='q0':\n",
    "                    self.state_q0(i)\n",
    "                elif self.state=='q1':\n",
    "                    self.state_q1(i)\n",
    "                elif self.state=='q2':\n",
    "                    self.state_q2(i)\n",
    "                else:\n",
    "                    self.state_q3(i)\n",
    "            \n",
    "            if self.state=='q3':\n",
    "                print(\"String is accepted\")\n",
    "            else:\n",
    "                print(\"String is rejected\")\n",
    "        except Exception as e:\n",
    "            print(\"Invalid String\")\n",
    "            "
   ]
  },
  {
   "cell_type": "code",
   "execution_count": 11,
   "id": "5cacb81a-b1c8-4680-8bbf-a34595ce85d8",
   "metadata": {},
   "outputs": [
    {
     "name": "stdin",
     "output_type": "stream",
     "text": [
      "Enter input string containing 0&1:  010101\n"
     ]
    },
    {
     "name": "stdout",
     "output_type": "stream",
     "text": [
      "String is accepted\n"
     ]
    }
   ],
   "source": [
    "DFA2().validate_string()"
   ]
  },
  {
   "cell_type": "markdown",
   "id": "7f7950c4-548c-4585-8f8e-27e1fe84a3f6",
   "metadata": {},
   "source": [
    "### Program 3: WAP to implement DFA that accept of all string which interpret as binary number is divisible by 4"
   ]
  },
  {
   "cell_type": "code",
   "execution_count": 12,
   "id": "9a397588-75e4-4f4f-9d67-284ea6d21d67",
   "metadata": {},
   "outputs": [],
   "source": [
    "class DFA3:        \n",
    "    def state_q0(self,i):\n",
    "        if i == '0':\n",
    "            self.state = 'q0'\n",
    "        elif i == '1':\n",
    "            self.state = 'q1'\n",
    "        else:\n",
    "            raise ValueError('Invalid String')\n",
    "        \n",
    "    def state_q1(self,i):\n",
    "        if i == '0':\n",
    "            self.state = 'q2'\n",
    "        elif i == '1':\n",
    "            self.state = 'q3'\n",
    "        else:\n",
    "            raise ValueError('Invalid String')\n",
    "        \n",
    "    def state_q2(self,i):\n",
    "        if i == '0':\n",
    "            self.state = 'q0'\n",
    "        elif i == '1':\n",
    "            self.state = 'q1'\n",
    "        else:\n",
    "            raise ValueError('Invalid String')\n",
    "            \n",
    "    def state_q3(self,i):\n",
    "        if i == '0':\n",
    "            self.state = 'q2'\n",
    "        elif i == '1':\n",
    "            self.state = 'q3'\n",
    "        else:\n",
    "            raise ValueError('Invalid String')\n",
    "\n",
    "    def validate_string(self,):\n",
    "        self.state = 'q0'\n",
    "        input_str = input('Enter input string containing 0&1: ')\n",
    "        try:\n",
    "            for i in input_str:\n",
    "                if self.state=='q0':\n",
    "                    self.state_q0(i)\n",
    "                elif self.state=='q1':\n",
    "                    self.state_q1(i)\n",
    "                elif self.state=='q2':\n",
    "                    self.state_q2(i)\n",
    "                else:\n",
    "                    self.state_q3(i)\n",
    "            \n",
    "            if self.state=='q0':\n",
    "                print(\"String is accepted\")\n",
    "            else:\n",
    "                print(\"String is rejected\")\n",
    "        except Exception as e:\n",
    "            print(\"Invalid String\")            "
   ]
  },
  {
   "cell_type": "code",
   "execution_count": 15,
   "id": "bed66985-d901-4e61-b057-c557a83be110",
   "metadata": {},
   "outputs": [
    {
     "name": "stdin",
     "output_type": "stream",
     "text": [
      "Enter input string containing 0&1:  11100\n"
     ]
    },
    {
     "name": "stdout",
     "output_type": "stream",
     "text": [
      "String is accepted\n"
     ]
    }
   ],
   "source": [
    "DFA3().validate_string()"
   ]
  },
  {
   "cell_type": "markdown",
   "id": "6ff1958c-b6e3-44ca-b7e6-dba8d8b7fcac",
   "metadata": {},
   "source": [
    "### Program 4: WAP to implement DFA that accepts set of all Strings ends with substring 'ab'"
   ]
  },
  {
   "cell_type": "code",
   "execution_count": 16,
   "id": "dfbb8bc4-95ce-458c-847e-41fba044889c",
   "metadata": {},
   "outputs": [],
   "source": [
    "class DFA4:\n",
    "    q0_transition = {'a':'q1','b':'q0'}\n",
    "    q1_transition = {'a':'q1','b':'q2'}\n",
    "    q2_transition = {'a':'q1','b':'q0'}\n",
    "\n",
    "    def validate_string(self,):\n",
    "        self.state = 'q0'\n",
    "        input_str = input('Enter input string containing a&b: ')\n",
    "        try:  # invalid input symbol is handled using KeyError\n",
    "            for i in input_str:\n",
    "                match(self.state):\n",
    "                    case 'q0':\n",
    "                        self.state = self.q0_transition[i]\n",
    "                    case 'q1':\n",
    "                        self.state = self.q1_transition[i]\n",
    "                    case _:\n",
    "                        self.state = self.q2_transition[i]\n",
    "            \n",
    "            if self.state=='q2':\n",
    "                print(\"String is accepted\")\n",
    "            else:\n",
    "                print(\"String is rejected\")\n",
    "        except Exception as e:\n",
    "            print(\"Invalid String\")            "
   ]
  },
  {
   "cell_type": "code",
   "execution_count": 17,
   "id": "417090a4-4a62-4769-84e4-7518a8e6a300",
   "metadata": {},
   "outputs": [
    {
     "name": "stdin",
     "output_type": "stream",
     "text": [
      "Enter input string containing a&b:  aabbab\n"
     ]
    },
    {
     "name": "stdout",
     "output_type": "stream",
     "text": [
      "String is accepted\n"
     ]
    }
   ],
   "source": [
    "DFA4().validate_string()"
   ]
  },
  {
   "cell_type": "code",
   "execution_count": null,
   "id": "b7a71d84-bb2c-425d-b96b-2b20ea4e490e",
   "metadata": {},
   "outputs": [],
   "source": []
  }
 ],
 "metadata": {
  "kernelspec": {
   "display_name": "Python 3 (ipykernel)",
   "language": "python",
   "name": "python3"
  },
  "language_info": {
   "codemirror_mode": {
    "name": "ipython",
    "version": 3
   },
   "file_extension": ".py",
   "mimetype": "text/x-python",
   "name": "python",
   "nbconvert_exporter": "python",
   "pygments_lexer": "ipython3",
   "version": "3.11.3"
  }
 },
 "nbformat": 4,
 "nbformat_minor": 5
}
