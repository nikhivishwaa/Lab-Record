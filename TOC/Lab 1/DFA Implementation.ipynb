{
 "cells": [
  {
   "cell_type": "markdown",
   "id": "3543b6e2-dd30-478d-8bf6-6dc959b7e0b2",
   "metadata": {},
   "source": [
    "<h3 style=\"text-align:center;\">Lab 1</h3>"
   ]
  },
  {
   "cell_type": "code",
   "execution_count": 15,
   "id": "eeba96b2-3644-482d-9944-9571826aa7f0",
   "metadata": {},
   "outputs": [],
   "source": [
    "def state_q0(i):\n",
    "    if i in ('a','b'):\n",
    "        globals()['state']='q1'\n",
    "    else:\n",
    "        raise ValueError(\"invalid input symbol\")\n",
    "\n",
    "def state_q1(i):\n",
    "    if i in ('a','b'):\n",
    "        globals()['state']='q2'\n",
    "    else:\n",
    "        raise ValueError(\"invalid input symbol\")\n",
    "\n",
    "def state_q2(i):\n",
    "    if i in ('a','b'):\n",
    "        globals()['state']='q2'\n",
    "    else:\n",
    "        raise ValueError(\"invalid input symbol\")"
   ]
  },
  {
   "cell_type": "code",
   "execution_count": 16,
   "id": "c8e118f4-c5e4-48d3-ae39-aed834bf321d",
   "metadata": {},
   "outputs": [
    {
     "name": "stdin",
     "output_type": "stream",
     "text": [
      "Enter input string containing a&b:  abc\n"
     ]
    },
    {
     "name": "stdout",
     "output_type": "stream",
     "text": [
      "Invalid String\n"
     ]
    }
   ],
   "source": [
    "state = 'q0'\n",
    "input_str = input('Enter input string containing a&b: ')\n",
    "try:\n",
    "    for i in input_str:\n",
    "        if state=='q0':\n",
    "            state_q0(i)\n",
    "        elif state=='q1':\n",
    "            state_q1(i)\n",
    "        else:\n",
    "            state_q2(i)\n",
    "    \n",
    "    if state=='q2':\n",
    "        print(\"String is accepted\")\n",
    "    else:\n",
    "        print(\"String is rejected\")\n",
    "except Exception as e:\n",
    "    print(\"Invalid String\")"
   ]
  },
  {
   "cell_type": "markdown",
   "id": "47d26c7e-846b-4841-a09f-08fc53f74f69",
   "metadata": {},
   "source": [
    "### WAP to implement DFA that accepts set of all strings which start with '0' & ends with '1'"
   ]
  },
  {
   "cell_type": "code",
   "execution_count": 39,
   "id": "15e3094e-8bba-4f79-ba6a-c40811fac5e2",
   "metadata": {},
   "outputs": [],
   "source": [
    "class DFA2:        \n",
    "    def state_q0(self,i):\n",
    "        if i == '0':\n",
    "            self.state = 'q1'\n",
    "        elif i == '1':\n",
    "            self.state = 'q2'\n",
    "        else:\n",
    "            raise ValueError('Invalid String')\n",
    "        \n",
    "    def state_q1(self,i):\n",
    "        if i == '0':\n",
    "            self.state = 'q1'\n",
    "        elif i == '1':\n",
    "            self.state = 'q3'\n",
    "        else:\n",
    "            raise ValueError('Invalid String')\n",
    "        \n",
    "    def state_q2(self,i):\n",
    "        if i in ('0', '1'):\n",
    "            self.state = 'q2'\n",
    "        else:\n",
    "            raise ValueError('Invalid String')\n",
    "            \n",
    "    def state_q3(self,i):\n",
    "        if i == '0':\n",
    "            self.state = 'q1'\n",
    "        elif i == '1':\n",
    "            self.state = 'q3'\n",
    "        else:\n",
    "            raise ValueError('Invalid String')\n",
    "\n",
    "    def validate_string(self,):\n",
    "        self.state = 'q0'\n",
    "        input_str = input('Enter input string containing 0&1: ')\n",
    "        try:\n",
    "            for i in input_str:\n",
    "                if self.state=='q0':\n",
    "                    self.state_q0(i)\n",
    "                elif self.state=='q1':\n",
    "                    self.state_q1(i)\n",
    "                elif self.state=='q2':\n",
    "                    self.state_q2(i)\n",
    "                else:\n",
    "                    self.state_q3(i)\n",
    "            \n",
    "            if self.state=='q3':\n",
    "                print(\"String is accepted\")\n",
    "            else:\n",
    "                print(\"String is rejected\")\n",
    "        except Exception as e:\n",
    "            print(\"Invalid String\")\n",
    "            "
   ]
  },
  {
   "cell_type": "code",
   "execution_count": 45,
   "id": "5cacb81a-b1c8-4680-8bbf-a34595ce85d8",
   "metadata": {},
   "outputs": [
    {
     "name": "stdin",
     "output_type": "stream",
     "text": [
      "Enter input string containing 0&1:  100bhjb\n"
     ]
    },
    {
     "name": "stdout",
     "output_type": "stream",
     "text": [
      "Invalid String\n"
     ]
    }
   ],
   "source": [
    "DFA2().validate_string()"
   ]
  },
  {
   "cell_type": "markdown",
   "id": "7f7950c4-548c-4585-8f8e-27e1fe84a3f6",
   "metadata": {},
   "source": [
    "### WAP to implement DFA that accept of all string which interpret as binary number is divisible by 4"
   ]
  },
  {
   "cell_type": "code",
   "execution_count": 48,
   "id": "9a397588-75e4-4f4f-9d67-284ea6d21d67",
   "metadata": {},
   "outputs": [],
   "source": [
    "class DFA3:        \n",
    "    def state_q0(self,i):\n",
    "        if i == '0':\n",
    "            self.state = 'q0'\n",
    "        elif i == '1':\n",
    "            self.state = 'q1'\n",
    "        else:\n",
    "            raise ValueError('Invalid String')\n",
    "        \n",
    "    def state_q1(self,i):\n",
    "        if i == '0':\n",
    "            self.state = 'q2'\n",
    "        elif i == '1':\n",
    "            self.state = 'q3'\n",
    "        else:\n",
    "            raise ValueError('Invalid String')\n",
    "        \n",
    "    def state_q2(self,i):\n",
    "        if i == '0':\n",
    "            self.state = 'q0'\n",
    "        elif i == '1':\n",
    "            self.state = 'q1'\n",
    "        else:\n",
    "            raise ValueError('Invalid String')\n",
    "            \n",
    "    def state_q3(self,i):\n",
    "        if i == '0':\n",
    "            self.state = 'q2'\n",
    "        elif i == '1':\n",
    "            self.state = 'q3'\n",
    "        else:\n",
    "            raise ValueError('Invalid String')\n",
    "\n",
    "    def validate_string(self,):\n",
    "        self.state = 'q0'\n",
    "        input_str = input('Enter input string containing 0&1: ')\n",
    "        try:\n",
    "            for i in input_str:\n",
    "                if self.state=='q0':\n",
    "                    self.state_q0(i)\n",
    "                elif self.state=='q1':\n",
    "                    self.state_q1(i)\n",
    "                elif self.state=='q2':\n",
    "                    self.state_q2(i)\n",
    "                else:\n",
    "                    self.state_q3(i)\n",
    "            \n",
    "            if self.state=='q0':\n",
    "                print(\"String is accepted\")\n",
    "            else:\n",
    "                print(\"String is rejected\")\n",
    "        except Exception as e:\n",
    "            print(\"Invalid String\")            "
   ]
  },
  {
   "cell_type": "code",
   "execution_count": 49,
   "id": "bed66985-d901-4e61-b057-c557a83be110",
   "metadata": {},
   "outputs": [
    {
     "name": "stdin",
     "output_type": "stream",
     "text": [
      "Enter input string containing 0&1:  100\n"
     ]
    },
    {
     "name": "stdout",
     "output_type": "stream",
     "text": [
      "String is accepted\n"
     ]
    }
   ],
   "source": [
    "DFA3().validate_string()"
   ]
  },
  {
   "cell_type": "code",
   "execution_count": null,
   "id": "6e56d341-1e55-420a-84cd-9d5192600d0d",
   "metadata": {},
   "outputs": [],
   "source": []
  }
 ],
 "metadata": {
  "kernelspec": {
   "display_name": "Python 3 (ipykernel)",
   "language": "python",
   "name": "python3"
  },
  "language_info": {
   "codemirror_mode": {
    "name": "ipython",
    "version": 3
   },
   "file_extension": ".py",
   "mimetype": "text/x-python",
   "name": "python",
   "nbconvert_exporter": "python",
   "pygments_lexer": "ipython3",
   "version": "3.12.5"
  }
 },
 "nbformat": 4,
 "nbformat_minor": 5
}
