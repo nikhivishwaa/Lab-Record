{
 "cells": [
  {
   "cell_type": "markdown",
   "id": "1077bcf8-93ac-4d18-8c74-d221b2e79daa",
   "metadata": {},
   "source": [
    "### Program 9: WAP to implement Mealy machine that counts the occurance of substring 'ab'"
   ]
  },
  {
   "cell_type": "code",
   "execution_count": 3,
   "id": "f60463cc-18dc-425a-a08d-90e00f54f7b5",
   "metadata": {},
   "outputs": [],
   "source": [
    "class MEALY9:\n",
    "    q0_transition = {'a':['q1','0'],'b':['q0','0']}\n",
    "    q1_transition = {'a':['q1','0'],'b':['q2','1']}\n",
    "    q2_transition = {'a':['q1','0'],'b':['q0','0']}\n",
    "\n",
    "    def output_string(self,):\n",
    "        self.state = 'q0'\n",
    "        output = ''\n",
    "        output_str = []\n",
    "        input_str = input('Enter input string containing a&b: ')\n",
    "        try:\n",
    "            for i in input_str:\n",
    "                match(self.state):\n",
    "                    case 'q0':\n",
    "                        self.state, output = self.q0_transition[i]\n",
    "                    case 'q1':\n",
    "                        self.state, output = self.q1_transition[i]\n",
    "                    case _:\n",
    "                        self.state, output = self.q2_transition[i]\n",
    "                output_str.append(output)\n",
    "\n",
    "            print(\"Output string is\", \"\".join(output_str))\n",
    "        except Exception as e:\n",
    "            print(\"Invalid String\")            "
   ]
  },
  {
   "cell_type": "code",
   "execution_count": 5,
   "id": "9c49abad-f6f0-49b5-910c-ab891aa2ec96",
   "metadata": {},
   "outputs": [
    {
     "name": "stdin",
     "output_type": "stream",
     "text": [
      "Enter input string containing a&b:  abab\n"
     ]
    },
    {
     "name": "stdout",
     "output_type": "stream",
     "text": [
      "Output string is 0101\n"
     ]
    }
   ],
   "source": [
    "MEALY9().output_string()"
   ]
  },
  {
   "cell_type": "markdown",
   "id": "2c28e059-10a8-44da-b425-f1242a37538c",
   "metadata": {},
   "source": [
    "### Program 10: WAP to implement Mealy machine that counts the occurance of substring 'bab'"
   ]
  },
  {
   "cell_type": "code",
   "execution_count": 6,
   "id": "e4b43f5d-1f50-474d-9393-11977f8c8de7",
   "metadata": {},
   "outputs": [],
   "source": [
    "class MEALY10:\n",
    "    q0_transition = {'a':['q0','0'],'b':['q1','0']}\n",
    "    q1_transition = {'a':['q2','0'],'b':['q1','0']}\n",
    "    q2_transition = {'a':['q0','0'],'b':['q3','1']}\n",
    "    q3_transition = {'a':['q2','0'],'b':['q1','0']}\n",
    "\n",
    "    def output_string(self,):\n",
    "        self.state = 'q0'\n",
    "        output = ''\n",
    "        output_str = []\n",
    "        input_str = input('Enter input string containing a&b: ')\n",
    "        try:\n",
    "            for i in input_str:\n",
    "                match(self.state):\n",
    "                    case 'q0':\n",
    "                        self.state, output = self.q0_transition[i]\n",
    "                    case 'q1':\n",
    "                        self.state, output = self.q1_transition[i]\n",
    "                    case 'q2':\n",
    "                        self.state, output = self.q2_transition[i]\n",
    "                    case _:\n",
    "                        self.state, output = self.q3_transition[i]\n",
    "                output_str.append(output)\n",
    "\n",
    "            print(\"Output string is\", \"\".join(output_str))\n",
    "        except Exception as e:\n",
    "            print(\"Invalid String\")            "
   ]
  },
  {
   "cell_type": "code",
   "execution_count": 7,
   "id": "d745c2cb-895f-46c8-bbc0-2ed385f4d490",
   "metadata": {},
   "outputs": [
    {
     "name": "stdin",
     "output_type": "stream",
     "text": [
      "Enter input string containing a&b:  aabababab\n"
     ]
    },
    {
     "name": "stdout",
     "output_type": "stream",
     "text": [
      "Output string is 000010101\n"
     ]
    }
   ],
   "source": [
    "MEALY10().output_string()"
   ]
  },
  {
   "cell_type": "markdown",
   "id": "6816725f-de4e-476f-b8f7-714be0554786",
   "metadata": {},
   "source": [
    "### Program 11: WAP to implement Mealy machine that print 'E' for even no. of 1's and '0' for odd no. of 1's"
   ]
  },
  {
   "cell_type": "code",
   "execution_count": 11,
   "id": "5a2ba51b-d894-432e-8e37-bee26ddd8614",
   "metadata": {},
   "outputs": [],
   "source": [
    "class MEALY11:\n",
    "    q0_transition = {'1':['q1','O'],'0':['q0','E']}\n",
    "    q1_transition = {'1':['q0','E'],'0':['q1','O']}\n",
    "\n",
    "    def output_string(self,):\n",
    "        self.state = 'q0'\n",
    "        output = ''\n",
    "        output_str = []\n",
    "        input_str = input('Enter input string containing a&b: ')\n",
    "        try:\n",
    "            for i in input_str:\n",
    "                match(self.state):\n",
    "                    case 'q0':\n",
    "                        self.state, output = self.q0_transition[i]\n",
    "                    case _:\n",
    "                        self.state, output = self.q1_transition[i]\n",
    "                output_str.append(output)\n",
    "\n",
    "            print(\"Output string is\", \"\".join(output_str))\n",
    "        except Exception as e:\n",
    "            print(\"Invalid String\")            "
   ]
  },
  {
   "cell_type": "code",
   "execution_count": 12,
   "id": "a948a7b1-3ea6-4ff6-ad69-e32eb4d42f5a",
   "metadata": {},
   "outputs": [
    {
     "name": "stdin",
     "output_type": "stream",
     "text": [
      "Enter input string containing a&b:  1100101\n"
     ]
    },
    {
     "name": "stdout",
     "output_type": "stream",
     "text": [
      "Output string is OEEEOOE\n"
     ]
    }
   ],
   "source": [
    "MEALY11().output_string()"
   ]
  },
  {
   "cell_type": "markdown",
   "id": "f8514a8e-e7a4-4eda-baaf-a992902c164b",
   "metadata": {},
   "source": [
    "### Program 12: WAP to implement Moore machine to find 2's complement of a string"
   ]
  },
  {
   "cell_type": "code",
   "execution_count": 36,
   "id": "e545d865-d106-4d9e-b4f7-eec7727128ed",
   "metadata": {},
   "outputs": [],
   "source": [
    "class MOORE12:\n",
    "    output = {'q0':'0', 'q1':'1', 'q2':'0'}\n",
    "    q0_transition = {'0':'q0','1':'q1'}\n",
    "    q1_transition = {'0':'q1','1':'q2'}\n",
    "    q2_transition = {'0':'q1','1':'q2'}\n",
    "\n",
    "    def output_string(self,):\n",
    "        self.state = 'q0'\n",
    "        output_str = []\n",
    "        input_str = input('Enter input string containing a&b: ')\n",
    "        try:\n",
    "            for i in input_str[::-1]:\n",
    "                match(self.state):\n",
    "                    case 'q0':\n",
    "                        self.state = self.q0_transition[i]\n",
    "                    case 'q1':\n",
    "                        self.state = self.q1_transition[i]\n",
    "                    case _:\n",
    "                        self.state = self.q2_transition[i]\n",
    "                output_str.append(self.output[self.state])\n",
    "            output_str += [self.output['q0']]\n",
    "\n",
    "            print(\"Output string is\", \"\".join(output_str)[::-1])\n",
    "        except Exception as e:\n",
    "            print(\"Invalid String\")            "
   ]
  },
  {
   "cell_type": "code",
   "execution_count": 37,
   "id": "6719c27a-baa6-42c1-8377-5af152e8755d",
   "metadata": {},
   "outputs": [
    {
     "name": "stdin",
     "output_type": "stream",
     "text": [
      "Enter input string containing a&b:  0111001000\n"
     ]
    },
    {
     "name": "stdout",
     "output_type": "stream",
     "text": [
      "Output string is 01000111000\n"
     ]
    }
   ],
   "source": [
    "MOORE12().output_string()"
   ]
  },
  {
   "cell_type": "markdown",
   "id": "b0b0b832-0476-47c4-bbbc-dd8f11e11026",
   "metadata": {},
   "source": [
    "### Program 13: WAP to implement Mealy machine to find 2's complement of a string"
   ]
  },
  {
   "cell_type": "code",
   "execution_count": 32,
   "id": "090e5597-f3f3-4579-a60e-6b3201d3941e",
   "metadata": {},
   "outputs": [],
   "source": [
    "class MEALY13:\n",
    "    q0_transition = {'0':['q0','0'],'1':['q1','1']}\n",
    "    q1_transition = {'0':['q1','1'],'1':['q1','0']}\n",
    "\n",
    "    def output_string(self,):\n",
    "        self.state = 'q0'\n",
    "        output = ''\n",
    "        output_str = []\n",
    "        input_str = input('Enter input string containing a&b: ')\n",
    "        try:\n",
    "            for i in input_str[::-1]:\n",
    "                match(self.state):\n",
    "                    case 'q0':\n",
    "                        self.state, output = self.q0_transition[i]\n",
    "                    case _:\n",
    "                        self.state, output = self.q1_transition[i]\n",
    "                output_str.append(output)\n",
    "\n",
    "            print(\"Output string is\", \"\".join(output_str)[::-1])\n",
    "        except Exception as e:\n",
    "            print(\"Invalid String\")            "
   ]
  },
  {
   "cell_type": "code",
   "execution_count": 33,
   "id": "6f413590-d9dc-4238-a515-6d7f71c2abc6",
   "metadata": {},
   "outputs": [
    {
     "name": "stdin",
     "output_type": "stream",
     "text": [
      "Enter input string containing a&b:  0111001000\n"
     ]
    },
    {
     "name": "stdout",
     "output_type": "stream",
     "text": [
      "Output string is 1000111000\n"
     ]
    }
   ],
   "source": [
    "MEALY13().output_string()"
   ]
  },
  {
   "cell_type": "code",
   "execution_count": null,
   "id": "a4d60757-058b-48fa-be97-eb767944bcc2",
   "metadata": {},
   "outputs": [],
   "source": []
  }
 ],
 "metadata": {
  "kernelspec": {
   "display_name": "Python 3 (ipykernel)",
   "language": "python",
   "name": "python3"
  },
  "language_info": {
   "codemirror_mode": {
    "name": "ipython",
    "version": 3
   },
   "file_extension": ".py",
   "mimetype": "text/x-python",
   "name": "python",
   "nbconvert_exporter": "python",
   "pygments_lexer": "ipython3",
   "version": "3.12.5"
  }
 },
 "nbformat": 4,
 "nbformat_minor": 5
}
