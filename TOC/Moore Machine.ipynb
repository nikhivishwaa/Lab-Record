{
 "cells": [
  {
   "cell_type": "markdown",
   "id": "30fa12dd-0aa5-4c5e-ab74-d7cd38a07d97",
   "metadata": {},
   "source": [
    "### Program 5: WAP to implement Moore machine that counts the occurance of substring 'ab'"
   ]
  },
  {
   "cell_type": "code",
   "execution_count": 18,
   "id": "e4f37ebe-36af-487e-b5bf-3e4a101eaa75",
   "metadata": {},
   "outputs": [],
   "source": [
    "class MOORE1:\n",
    "    output = {'q0':'0', 'q1':'0', 'q2':'1'}\n",
    "    q0_transition = {'a':'q1','b':'q0'}\n",
    "    q1_transition = {'a':'q1','b':'q2'}\n",
    "    q2_transition = {'a':'q1','b':'q0'}\n",
    "\n",
    "    def output_string(self,):\n",
    "        self.state = 'q0'\n",
    "        output_str = [self.output[self.state]]\n",
    "        input_str = input('Enter input string containing a&b: ')\n",
    "        try:\n",
    "            for i in input_str:\n",
    "                match(self.state):\n",
    "                    case 'q0':\n",
    "                        self.state = self.q0_transition[i]\n",
    "                    case 'q1':\n",
    "                        self.state = self.q1_transition[i]\n",
    "                    case _:\n",
    "                        self.state = self.q2_transition[i]\n",
    "                output_str.append(self.output[self.state])\n",
    "\n",
    "            print(\"Output string is\", \"\".join(output_str))\n",
    "        except Exception as e:\n",
    "            print(\"Invalid String\")            "
   ]
  },
  {
   "cell_type": "code",
   "execution_count": 19,
   "id": "60120fbd-6cc6-4569-bb93-15a720472415",
   "metadata": {},
   "outputs": [
    {
     "name": "stdin",
     "output_type": "stream",
     "text": [
      "Enter input string containing a&b:  aabababa\n"
     ]
    },
    {
     "name": "stdout",
     "output_type": "stream",
     "text": [
      "Output string is 000101010\n"
     ]
    }
   ],
   "source": [
    "MOORE1().output_string()"
   ]
  },
  {
   "cell_type": "markdown",
   "id": "6f2bf8b1-8007-480b-a5e1-0ca4c98ccccb",
   "metadata": {},
   "source": [
    "### Program 6: WAP to implement DFA that accepts the string end with 'bab'"
   ]
  },
  {
   "cell_type": "code",
   "execution_count": 20,
   "id": "e6a278ee-462f-47bc-929d-9e51befcf591",
   "metadata": {},
   "outputs": [],
   "source": [
    "class DFA6:\n",
    "    q0_transition = {'a':'q0','b':'q1'}\n",
    "    q1_transition = {'a':'q2','b':'q1'}\n",
    "    q2_transition = {'a':'q0','b':'q3'}\n",
    "    q3_transition = {'a':'q2','b':'q1'}\n",
    "\n",
    "    def validate_string(self,):\n",
    "        self.state = 'q0'\n",
    "        input_str = input('Enter input string containing a&b: ')\n",
    "        try:  # invalid input symbol is handled using KeyError\n",
    "            for i in input_str:\n",
    "                match(self.state):\n",
    "                    case 'q0':\n",
    "                        self.state = self.q0_transition[i]\n",
    "                    case 'q1':\n",
    "                        self.state = self.q1_transition[i]\n",
    "                    case 'q2':\n",
    "                        self.state = self.q2_transition[i]\n",
    "                    case _:\n",
    "                        self.state = self.q3_transition[i]\n",
    "            \n",
    "            if self.state=='q3':\n",
    "                print(\"String is accepted\")\n",
    "            else:\n",
    "                print(\"String is rejected\")\n",
    "        except Exception as e:\n",
    "            print(\"Invalid String\")            "
   ]
  },
  {
   "cell_type": "code",
   "execution_count": 21,
   "id": "5a203d8b-4cfb-416f-b3de-3cd45957a852",
   "metadata": {},
   "outputs": [
    {
     "name": "stdin",
     "output_type": "stream",
     "text": [
      "Enter input string containing a&b:  aabababab\n"
     ]
    },
    {
     "name": "stdout",
     "output_type": "stream",
     "text": [
      "String is accepted\n"
     ]
    }
   ],
   "source": [
    "DFA6().validate_string()"
   ]
  },
  {
   "cell_type": "markdown",
   "id": "9a3e7171-8290-4e05-9455-27a34dd32a5e",
   "metadata": {},
   "source": [
    "### Program 7: WAP to implement Moore machine that counts the occurance of substring 'bab'"
   ]
  },
  {
   "cell_type": "code",
   "execution_count": 13,
   "id": "8c9a90a0-513b-47b6-a687-63e8aa94270c",
   "metadata": {},
   "outputs": [],
   "source": [
    "class MOORE7:\n",
    "    output = {'q0':'0', 'q1':'0', 'q2':'0','q3':'1'}\n",
    "    q0_transition = {'a':'q0','b':'q1'}\n",
    "    q1_transition = {'a':'q2','b':'q1'}\n",
    "    q2_transition = {'a':'q0','b':'q3'}\n",
    "    q3_transition = {'a':'q2','b':'q1'}\n",
    "\n",
    "    def output_string(self,):\n",
    "        self.state = 'q0'\n",
    "        output_str = [self.output[self.state]]\n",
    "        input_str = input('Enter input string containing a&b: ')\n",
    "        try:\n",
    "            for i in input_str:\n",
    "                match(self.state):\n",
    "                    case 'q0':\n",
    "                        self.state = self.q0_transition[i]\n",
    "                    case 'q1':\n",
    "                        self.state = self.q1_transition[i]\n",
    "                    case 'q2':\n",
    "                        self.state = self.q2_transition[i]\n",
    "                    case _:\n",
    "                        self.state = self.q3_transition[i]\n",
    "                output_str.append(self.output[self.state])\n",
    "\n",
    "            print(\"Output string is\", \"\".join(output_str))\n",
    "        except Exception as e:\n",
    "            print(\"Invalid String\")            "
   ]
  },
  {
   "cell_type": "code",
   "execution_count": 14,
   "id": "47c58d05-45e1-4f92-82c6-d6082668bb42",
   "metadata": {},
   "outputs": [
    {
     "name": "stdin",
     "output_type": "stream",
     "text": [
      "Enter input string containing a&b:  babababab\n"
     ]
    },
    {
     "name": "stdout",
     "output_type": "stream",
     "text": [
      "Output string is 0001010101\n"
     ]
    }
   ],
   "source": [
    "MOORE7().output_string()"
   ]
  },
  {
   "cell_type": "markdown",
   "id": "a65ce4c4-2a4f-4357-8d57-4b8c45ff7320",
   "metadata": {},
   "source": [
    "### Program 8: WAP to implement Moore machine that print 'E' for even no. of 1's and 'O' for odd no. of 1's"
   ]
  },
  {
   "cell_type": "code",
   "execution_count": 3,
   "id": "73302179-8ddb-4d1e-b525-ac5f2e1903e3",
   "metadata": {},
   "outputs": [],
   "source": [
    "class MOORE8:\n",
    "    output = {'q0':'E', 'q1':'O'}\n",
    "    q0_transition = {'0':'q0','1':'q1'}\n",
    "    q1_transition = {'0':'q1','1':'q0'}\n",
    "\n",
    "    def output_string(self,):\n",
    "        self.state = 'q0'\n",
    "        output_str = [self.output[self.state]]\n",
    "        input_str = input('Enter input string containing a&b: ')\n",
    "        try:\n",
    "            for i in input_str:\n",
    "                match(self.state):\n",
    "                    case 'q0':\n",
    "                        self.state = self.q0_transition[i]\n",
    "                    case _:\n",
    "                        self.state = self.q1_transition[i]\n",
    "                output_str.append(self.output[self.state])\n",
    "\n",
    "            print(\"Output string is\", \"\".join(output_str))\n",
    "        except Exception as e:\n",
    "            print(\"Invalid String\")            "
   ]
  },
  {
   "cell_type": "code",
   "execution_count": 4,
   "id": "7aa247b6-b055-4153-87b5-a2e6f8c4d707",
   "metadata": {},
   "outputs": [
    {
     "name": "stdin",
     "output_type": "stream",
     "text": [
      "Enter input string containing a&b:  1100101\n"
     ]
    },
    {
     "name": "stdout",
     "output_type": "stream",
     "text": [
      "Output string is EOEEEOOE\n"
     ]
    }
   ],
   "source": [
    "MOORE8().output_string()"
   ]
  },
  {
   "cell_type": "code",
   "execution_count": null,
   "id": "a4ed450e",
   "metadata": {},
   "outputs": [],
   "source": []
  }
 ],
 "metadata": {
  "kernelspec": {
   "display_name": "Python 3 (ipykernel)",
   "language": "python",
   "name": "python3"
  },
  "language_info": {
   "codemirror_mode": {
    "name": "ipython",
    "version": 3
   },
   "file_extension": ".py",
   "mimetype": "text/x-python",
   "name": "python",
   "nbconvert_exporter": "python",
   "pygments_lexer": "ipython3",
   "version": "3.11.3"
  }
 },
 "nbformat": 4,
 "nbformat_minor": 5
}
